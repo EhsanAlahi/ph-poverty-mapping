{
 "cells": [
  {
   "cell_type": "markdown",
   "metadata": {},
   "source": [
    "# OpenStreetMaps (OSM) Model"
   ]
  },
  {
   "cell_type": "markdown",
   "metadata": {},
   "source": [
    "## Imports"
   ]
  },
  {
   "cell_type": "code",
   "execution_count": null,
   "metadata": {},
   "outputs": [],
   "source": [
    "import sys\n",
    "sys.path.insert(0, '../utils')\n",
    "import model_utils\n",
    "import data_utils\n",
    "\n",
    "import pandas as pd\n",
    "import numpy as np\n",
    "\n",
    "import warnings\n",
    "warnings.filterwarnings('ignore')\n",
    "\n",
    "%load_ext autoreload\n",
    "%autoreload 2"
   ]
  },
  {
   "cell_type": "markdown",
   "metadata": {},
   "source": [
    "## File Locations"
   ]
  },
  {
   "cell_type": "code",
   "execution_count": null,
   "metadata": {},
   "outputs": [],
   "source": [
    "bucket_name = 'tm-geospatial'\n",
    "directory = 'poverty-prediction-datasets'\n",
    "\n",
    "ntl_summary_stats_file = '../data/nightlights_summary_stats.csv'\n",
    "dhs_indicators_file = '../data/dhs_indicators.csv'\n",
    "\n",
    "osm_roads_file = '../data/osm_roads.csv'\n",
    "osm_buildings_file = '../data/osm_buildings.csv'\n",
    "osm_pois_file = '../data/osm_pois.csv'"
   ]
  },
  {
   "cell_type": "markdown",
   "metadata": {},
   "source": [
    "## Download Datasets"
   ]
  },
  {
   "cell_type": "code",
   "execution_count": null,
   "metadata": {},
   "outputs": [],
   "source": [
    "# Download from Google Cloud Storage\n",
    "data_utils.download_from_bucket('dhs_indicators.csv', directory, dhs_indicators_file, bucket_name);\n",
    "data_utils.download_from_bucket('nightlights_summary_stats.csv', directory, ntl_summary_stats_file, bucket_name);\n",
    "data_utils.download_from_bucket('osm_roads.csv', directory, osm_roads_file, bucket_name);\n",
    "data_utils.download_from_bucket('osm_buildings.csv', directory, osm_buildings_file, bucket_name);\n",
    "data_utils.download_from_bucket('osm_pois.csv', directory, osm_pois_file, bucket_name);"
   ]
  },
  {
   "cell_type": "markdown",
   "metadata": {},
   "source": [
    "## Load Datasets"
   ]
  },
  {
   "cell_type": "code",
   "execution_count": null,
   "metadata": {},
   "outputs": [],
   "source": [
    "# Load DHS indicators and nighttime lights\n",
    "dhs_indicators = pd.read_csv(dhs_indicators_file)\n",
    "ntl_summary_stats = pd.read_csv(ntl_summary_stats_file)\n",
    "\n",
    "# Load OSM datasets\n",
    "roads = pd.read_csv(osm_roads_file)\n",
    "buildings = pd.read_csv(osm_buildings_file)\n",
    "pois = pd.read_csv(osm_pois_file)\n",
    "\n",
    "# Define feature columns\n",
    "road_cols = roads.columns[1:]\n",
    "building_cols = buildings.columns[1:]\n",
    "poi_cols = pois.columns[1:]\n",
    "ntl_cols = ntl_summary_stats.columns[1:]\n",
    "\n",
    "# Get list of columns\n",
    "osm_cols = list(road_cols) + list(building_cols) + list(poi_cols)\n",
    "osm_ntl_cols = list(osm_cols) + list(ntl_cols)"
   ]
  },
  {
   "cell_type": "markdown",
   "metadata": {},
   "source": [
    "## Combine Features"
   ]
  },
  {
   "cell_type": "code",
   "execution_count": null,
   "metadata": {},
   "outputs": [],
   "source": [
    "# Merge roads + buildings + pois\n",
    "osm = roads.merge(buildings, on='DHSCLUST')\n",
    "osm = osm.merge(pois, on='DHSCLUST')\n",
    "print(\"Shape of osm dataframe: {}\".format(osm.shape))\n",
    "\n",
    "# Merge osm + nightlights\n",
    "osm_ntl = osm.merge(ntl_summary_stats, on='DHSCLUST')\n",
    "print(\"Shape of osm+ntl dataframe: {}\".format(osm_ntl.shape))\n",
    "\n",
    "# merge dhs + osm\n",
    "dhs = dhs_indicators.merge(osm_ntl, left_on='Cluster number', right_on='DHSCLUST')"
   ]
  },
  {
   "cell_type": "markdown",
   "metadata": {},
   "source": [
    "## Spearman and Pearsons Correlation"
   ]
  },
  {
   "cell_type": "code",
   "execution_count": null,
   "metadata": {},
   "outputs": [],
   "source": [
    "data_utils.plot_corr(\n",
    "    data=dhs,\n",
    "    features_cols=osm_cols,\n",
    "    indicator = 'Wealth Index',\n",
    "    max_n=50,\n",
    "    figsize=(5,13)\n",
    ");"
   ]
  },
  {
   "cell_type": "markdown",
   "metadata": {},
   "source": [
    "## Machine Learning Pipeline"
   ]
  },
  {
   "cell_type": "markdown",
   "metadata": {},
   "source": [
    "### Configuration"
   ]
  },
  {
   "cell_type": "code",
   "execution_count": null,
   "metadata": {},
   "outputs": [],
   "source": [
    "# Scoring metrics\n",
    "scoring = {\n",
    "    'r2': data_utils.pearsonr2,\n",
    "    'rmse': data_utils.rmse\n",
    "}\n",
    "\n",
    "# Indicators of interest\n",
    "indicators = [\n",
    "    'Wealth Index',\n",
    "    'Education completed (years)',\n",
    "    'Access to electricity',\n",
    "    'Access to water (minutes)'\n",
    "]"
   ]
  },
  {
   "cell_type": "markdown",
   "metadata": {},
   "source": [
    "## OSM Features + Nighttime Lights"
   ]
  },
  {
   "cell_type": "code",
   "execution_count": null,
   "metadata": {},
   "outputs": [],
   "source": [
    "predictions = model_utils.evaluate_model(\n",
    "    data=dhs,\n",
    "    feature_cols=osm_ntl_cols, \n",
    "    indicator_cols=indicators,\n",
    "    scoring=scoring,\n",
    "    model_type='random_forest', \n",
    "    refit='r2', \n",
    "    search_type='random', \n",
    "    n_splits=5, \n",
    "    n_iter=10, \n",
    "    plot_importance=False,\n",
    "    verbose=2\n",
    ")"
   ]
  },
  {
   "cell_type": "markdown",
   "metadata": {},
   "source": [
    "## OSM Features Only"
   ]
  },
  {
   "cell_type": "code",
   "execution_count": null,
   "metadata": {},
   "outputs": [],
   "source": [
    "predictions = model_utils.evaluate_model(\n",
    "    data=dhs,\n",
    "    feature_cols=osm_cols, \n",
    "    indicator_cols=indicators,\n",
    "    scoring=scoring,\n",
    "    model_type='random_forest', \n",
    "    refit='r2', \n",
    "    search_type='random', \n",
    "    n_splits=5, \n",
    "    n_iter=10, \n",
    "    plot_importance=True\n",
    ")"
   ]
  },
  {
   "cell_type": "markdown",
   "metadata": {},
   "source": [
    "### Road Features"
   ]
  },
  {
   "cell_type": "code",
   "execution_count": null,
   "metadata": {},
   "outputs": [],
   "source": [
    "predictions = model_utils.evaluate_model(\n",
    "    data=dhs,\n",
    "    feature_cols=road_cols, \n",
    "    indicator_cols=indicators,\n",
    "    scoring=scoring,\n",
    "    model_type='random_forest', \n",
    "    refit='r2', \n",
    "    search_type='random', \n",
    "    n_splits=5, \n",
    "    n_iter=10, \n",
    "    plot_importance=True\n",
    ")"
   ]
  },
  {
   "cell_type": "markdown",
   "metadata": {},
   "source": [
    "## Buildings"
   ]
  },
  {
   "cell_type": "code",
   "execution_count": null,
   "metadata": {},
   "outputs": [],
   "source": [
    "predictions = model_utils.evaluate_model(\n",
    "    data=dhs,\n",
    "    feature_cols=building_cols, \n",
    "    indicator_cols=indicators,\n",
    "    scoring=scoring,\n",
    "    model_type='random_forest', \n",
    "    refit='r2', \n",
    "    search_type='random', \n",
    "    n_splits=5, \n",
    "    n_iter=10, \n",
    "    plot_importance=True\n",
    ")"
   ]
  },
  {
   "cell_type": "markdown",
   "metadata": {},
   "source": [
    "## Points of Interest"
   ]
  },
  {
   "cell_type": "code",
   "execution_count": null,
   "metadata": {},
   "outputs": [],
   "source": [
    "predictions = model_utils.evaluate_model(\n",
    "    data=dhs,\n",
    "    feature_cols=poi_cols, \n",
    "    indicator_cols=indicators,\n",
    "    scoring=scoring,\n",
    "    model_type='random_forest', \n",
    "    refit='r2', \n",
    "    search_type='random', \n",
    "    n_splits=5, \n",
    "    n_iter=10, \n",
    "    plot_importance=True\n",
    ")"
   ]
  }
 ],
 "metadata": {
  "kernelspec": {
   "display_name": "Python 3",
   "language": "python",
   "name": "python3"
  },
  "language_info": {
   "codemirror_mode": {
    "name": "ipython",
    "version": 3
   },
   "file_extension": ".py",
   "mimetype": "text/x-python",
   "name": "python",
   "nbconvert_exporter": "python",
   "pygments_lexer": "ipython3",
   "version": "3.7.3"
  }
 },
 "nbformat": 4,
 "nbformat_minor": 4
}
